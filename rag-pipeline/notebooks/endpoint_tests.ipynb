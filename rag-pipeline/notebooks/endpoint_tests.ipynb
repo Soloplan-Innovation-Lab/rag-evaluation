{
 "cells": [
  {
   "cell_type": "markdown",
   "metadata": {},
   "source": [
    "# Agent prototype test\n",
    "\n",
    "Conclusion: The agent prototype is working, but generation time is way too long. Also, results are not that much better."
   ]
  },
  {
   "cell_type": "code",
   "execution_count": 1,
   "metadata": {},
   "outputs": [
    {
     "name": "stdout",
     "output_type": "stream",
     "text": [
      "formula_knowledge_agent: Embedding duration: 728.3332669976517\n",
      "business_logic_agent: Embedding duration: 592.5455850010621\n",
      "formula_knowledge_agent: Retrieval duration: 626.4251719985623\n",
      "business_logic_agent: Retrieval duration: 708.1056809984148\n",
      "business_logic_agent: Response duration: 18719.81248100201\n",
      "business_logic_agent: Token usage: completion_tokens=902 prompt_tokens=7106 total_tokens=8008\n",
      "formula_knowledge_agent: Response duration: 18962.985653997748\n",
      "formula_knowledge_agent: Token usage: completion_tokens=743 prompt_tokens=1062 total_tokens=1805\n",
      "formula_chat_agent: Response duration: 44427.68149400217\n",
      "formula_chat_agent: Token usage: completion_tokens=90 prompt_tokens=2104 total_tokens=2194\n"
     ]
    }
   ],
   "source": [
    "import sys\n",
    "from uuid import uuid4\n",
    "from internal_shared.models.chat import AgentChatRequest\n",
    "\n",
    "sys.path.append('/workspace/rag-pipeline/api')\n",
    "from pipeline.agent import execute_pipeline\n",
    "\n",
    "# execute the pipeline\n",
    "request = AgentChatRequest(\n",
    "    query=\"Create a formula that lists all the unique appointment types for the current vehicle, where the appointments are scheduled to start within the next 7 days and have not yet ended. The output should include the appointment type designation and the scheduled start and end times, formatted as 'designation von start_date bis end_date', and separated by a semicolon.\"\n",
    ")\n",
    "request_id = uuid4()\n",
    "result = await execute_pipeline(request, str(request_id))"
   ]
  },
  {
   "cell_type": "code",
   "execution_count": null,
   "metadata": {},
   "outputs": [],
   "source": [
    "result"
   ]
  },
  {
   "cell_type": "markdown",
   "metadata": {},
   "source": [
    "Result: ``ItemsToText([Appointments], [*], '[AppointmentType.Designation] von ' + ToStrDate([ScheduledFrom], 'dd.MM.yyyy HH:mm') + ' bis ' + ToStrDate([ScheduledUntil], 'dd.MM.yyyy HH:mm'), '; ', '', true, true)``\n",
    "\n",
    "Time: ``2m 14.1s``, ``2m 6.1s``, ``2m 6.3s``, ``1m 5.4s``"
   ]
  }
 ],
 "metadata": {
  "kernelspec": {
   "display_name": "Python 3",
   "language": "python",
   "name": "python3"
  },
  "language_info": {
   "codemirror_mode": {
    "name": "ipython",
    "version": 3
   },
   "file_extension": ".py",
   "mimetype": "text/x-python",
   "name": "python",
   "nbconvert_exporter": "python",
   "pygments_lexer": "ipython3",
   "version": "3.11.7"
  }
 },
 "nbformat": 4,
 "nbformat_minor": 2
}
