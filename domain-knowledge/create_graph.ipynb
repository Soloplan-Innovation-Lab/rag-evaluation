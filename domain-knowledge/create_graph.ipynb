{
 "cells": [
  {
   "cell_type": "markdown",
   "metadata": {},
   "source": [
    "Setup all required connections and configurations"
   ]
  },
  {
   "cell_type": "code",
   "execution_count": 1,
   "metadata": {},
   "outputs": [
    {
     "name": "stdout",
     "output_type": "stream",
     "text": [
      "Connection successful!\n"
     ]
    }
   ],
   "source": [
    "import os\n",
    "from neomodel import config, db\n",
    "from openai import AzureOpenAI\n",
    "\n",
    "\n",
    "# Configure the connection to the Neo4j database\n",
    "config.DATABASE_URL = os.getenv(\"NEO4J_URI\")\n",
    "\n",
    "# check connection\n",
    "try:\n",
    "    # Attempt to run a simple query\n",
    "    db.cypher_query(\"MATCH (n) RETURN count(n)\")\n",
    "    print(\"Connection successful!\")\n",
    "except Exception as e:\n",
    "    print(f\"Connection failed: {e}\")\n",
    "\n",
    "client = AzureOpenAI(\n",
    "    api_key=os.getenv(\"AZURE_OPEN_AI_API_KEY\"),\n",
    "    api_version=os.getenv(\"AZURE_OPEN_AI_API_VERSION\"),\n",
    "    azure_endpoint=os.getenv(\"AZURE_OPEN_AI_ENDPOINT\"),\n",
    ")\n",
    "\n",
    "embedding_model = os.getenv(\"AZURE_OPEN_AI_EMBEDDING_MODEL\")"
   ]
  },
  {
   "cell_type": "markdown",
   "metadata": {},
   "source": [
    "Create all required classes"
   ]
  },
  {
   "cell_type": "code",
   "execution_count": 2,
   "metadata": {},
   "outputs": [],
   "source": [
    "from neomodel import ArrayProperty, FloatProperty, StructuredNode, StringProperty, RelationshipTo, StructuredRel\n",
    "from pydantic import BaseModel\n",
    "\n",
    "\n",
    "# Define relationship models\n",
    "class ReferencesRel(StructuredRel):\n",
    "    name = StringProperty()\n",
    "    description = StringProperty()\n",
    "\n",
    "\n",
    "# Define node models\n",
    "class Interface(StructuredNode):\n",
    "    name = StringProperty(unique_index=True)\n",
    "    summary = StringProperty()\n",
    "    namespace = StringProperty()\n",
    "    assembly = StringProperty()\n",
    "    references = RelationshipTo(\"Interface\", \"REFERENCES\", model=ReferencesRel)\n",
    "    embedding = ArrayProperty(FloatProperty())\n",
    "\n",
    "\n",
    "# define pydantic models\n",
    "class Metadata(BaseModel):\n",
    "    name: str\n",
    "    summary: str\n",
    "    namespace: str\n",
    "    assembly: str\n",
    "    type_references: list[str]"
   ]
  },
  {
   "cell_type": "markdown",
   "metadata": {},
   "source": [
    "# Main logic: Create the graph\n",
    "\n",
    "The graph is created by using the scraped interfaces. During the scraping process, all relations between the types are known and stored as ``type_references``. This information is used to create the graph.\n",
    "\n",
    "In order to *access* the graph using natural language, a [vector index](https://neo4j.com/docs/cypher-manual/current/indexes/semantic-indexes/vector-indexes/) is created. This accesses the ``embedding`` of the graph nodes, which are created during the graph creation process."
   ]
  },
  {
   "cell_type": "code",
   "execution_count": 3,
   "metadata": {},
   "outputs": [],
   "source": [
    "import json\n",
    "from typing import Any, Dict, List\n",
    "\n",
    "\n",
    "def extract_metadata(key: str, value: Dict[str, str]) -> Metadata:\n",
    "    \"\"\"\n",
    "    Extract metadata from the JSON object.\n",
    "    \"\"\"\n",
    "    return Metadata(\n",
    "        name=key,\n",
    "        summary=value.get(\"summary\", \"\"),\n",
    "        namespace=value.get(\"namespace\", \"\"),\n",
    "        assembly=value.get(\"assembly\", \"\"),\n",
    "        type_references=value.get(\"type_references\", []),\n",
    "    )\n",
    "\n",
    "\n",
    "def create_embedding(content: str) -> List[float] | None:\n",
    "    \"\"\"\n",
    "    Create an embedding for the given content.\n",
    "    \"\"\"\n",
    "    embeddings = client.embeddings.create(input=content, model=embedding_model)\n",
    "    if len(embeddings.data) > 0:\n",
    "        return embeddings.data[0].embedding\n",
    "    return None\n",
    "\n",
    "\n",
    "def create_graph_from_interfaces(interfaces: Dict[str, Dict[str, str]]):\n",
    "    \"\"\"\n",
    "    Create a graph from the interfaces. The graph will contain nodes for each interface and references between them.\n",
    "    Also, the nodes will contain embeddings for the interface summaries.\n",
    "    \"\"\"\n",
    "    interface_nodes: Dict[str, Interface] = {}\n",
    "\n",
    "    # Create interface nodes\n",
    "    for key, value in interfaces.items():\n",
    "        metadata = extract_metadata(key, value)\n",
    "        if metadata.name not in interface_nodes:\n",
    "            embedding_text = f\"{metadata.name}: {metadata.summary}\"\n",
    "            embedding = create_embedding(embedding_text)\n",
    "\n",
    "            interface_node = Interface(\n",
    "                name=metadata.name,\n",
    "                summary=metadata.summary,\n",
    "                namespace=metadata.namespace,\n",
    "                assembly=metadata.assembly,\n",
    "                embedding=embedding,\n",
    "            ).save()\n",
    "\n",
    "            interface_nodes[metadata.name] = interface_node\n",
    "\n",
    "    # Create references between interface nodes\n",
    "    for key, value in interfaces.items():\n",
    "        metadata = extract_metadata(key, value)\n",
    "        source_node = interface_nodes[metadata.name]\n",
    "        for ref_name in metadata.type_references:\n",
    "            if (\n",
    "                ref_name in interface_nodes and ref_name != metadata.name\n",
    "            ):  # Skip self-references\n",
    "                target_node = interface_nodes[ref_name]\n",
    "                if not source_node.references.is_connected(target_node):\n",
    "                    source_node.references.connect(target_node)\n",
    "\n",
    "\n",
    "# Load all interfaces from the single JSON file\n",
    "with open(\"scraped_domain_knowledge.json\", \"r\", encoding=\"utf8\") as f:\n",
    "    interfaces: Dict[str, Any] = json.load(f)\n",
    "\n",
    "create_graph_from_interfaces(interfaces)"
   ]
  },
  {
   "cell_type": "markdown",
   "metadata": {},
   "source": [
    "Create the vector index"
   ]
  },
  {
   "cell_type": "code",
   "execution_count": 4,
   "metadata": {},
   "outputs": [
    {
     "data": {
      "text/plain": [
       "([], [])"
      ]
     },
     "execution_count": 4,
     "metadata": {},
     "output_type": "execute_result"
    }
   ],
   "source": [
    "from neomodel import db\n",
    "\n",
    "query = \"\"\"\n",
    "CREATE VECTOR INDEX interface_embeddings  \n",
    "FOR (n:Interface) ON (n.embedding)  \n",
    "OPTIONS {indexConfig: { `vector.dimensions`: 3072, `vector.similarity_function`: 'cosine'}}  \n",
    "\"\"\"\n",
    "\n",
    "# Create vector index\n",
    "db.cypher_query(query)"
   ]
  },
  {
   "cell_type": "markdown",
   "metadata": {},
   "source": [
    "## Example query\n",
    "\n",
    "The following query is an example of how to access the graph using natural language. The query is executed using the vector index."
   ]
  },
  {
   "cell_type": "code",
   "execution_count": 11,
   "metadata": {},
   "outputs": [
    {
     "name": "stdout",
     "output_type": "stream",
     "text": [
      "{'name': 'ITaxText', 'summary': 'A tax text.', 'related_name': 'ICountry', 'score': 0.6472876071929932}\n",
      "{'name': 'IWorkshopActivity', 'summary': 'Werkstattdaten - TÃ¤tigkeiten.', 'related_name': 'IWorkshopActivityTireRelation', 'score': 0.6018018126487732}\n",
      "{'name': 'IWorkshopActivity', 'summary': 'Werkstattdaten - TÃ¤tigkeiten.', 'related_name': 'IWorkshopActivityArticleRelation', 'score': 0.6018018126487732}\n",
      "{'name': 'IWorkshopActivity', 'summary': 'Werkstattdaten - TÃ¤tigkeiten.', 'related_name': 'IWorkshopActivityTemplate', 'score': 0.6018018126487732}\n"
     ]
    }
   ],
   "source": [
    "from neomodel import db  \n",
    "  \n",
    "def query_similar_interfaces_with_relationships(query_text: str, num_neighbors: int = 10, threshold: float = 0.5):  \n",
    "    \"\"\"  \n",
    "    Query similar interfaces with relationships to related interfaces.  \n",
    "      \n",
    "    Parameters:  \n",
    "    - query_text (str): The text to generate the query embedding.  \n",
    "    - num_neighbors (int): The number of nearest neighbors to return.  \n",
    "    - threshold (float): The minimum similarity score required to include a neighbor in the results.  \n",
    "      \n",
    "    Returns:  \n",
    "    - List[Dict]: A list of dictionaries containing the name, summary, related name, and score of similar interfaces.  \n",
    "    \"\"\"  \n",
    "    query_embedding = create_embedding(query_text)  \n",
    "      \n",
    "    # Prepare the query  \n",
    "    cypher_query = \"\"\"  \n",
    "    CALL db.index.vector.queryNodes('interface_embeddings', $num_neighbors, $query_embedding)  \n",
    "    YIELD node AS similarNode, score  \n",
    "    MATCH (similarNode)-[r:REFERENCES]->(relatedNode)  \n",
    "    WHERE score >= $threshold  \n",
    "    RETURN similarNode.name AS name, similarNode.summary AS summary, relatedNode.name AS related_name, score  \n",
    "    \"\"\"  \n",
    "      \n",
    "    # Execute the query  \n",
    "    results, meta = db.cypher_query(cypher_query, {  \n",
    "        'num_neighbors': num_neighbors,  \n",
    "        'query_embedding': query_embedding,  \n",
    "        'threshold': threshold  \n",
    "    })  \n",
    "      \n",
    "    # Process the results  \n",
    "    processed_results = []  \n",
    "    for result in results:  \n",
    "        processed_results.append({  \n",
    "            'name': result[0],  \n",
    "            'summary': result[1],  \n",
    "            'related_name': result[2],  \n",
    "            'score': result[3]  \n",
    "        })  \n",
    "      \n",
    "    return processed_results  \n",
    "  \n",
    "# Example usage  \n",
    "query_text = \"Your query text here\"  \n",
    "results = query_similar_interfaces_with_relationships(query_text, threshold=0.6)  \n",
    "for result in results:  \n",
    "    print(result)  \n"
   ]
  }
 ],
 "metadata": {
  "kernelspec": {
   "display_name": "Python 3",
   "language": "python",
   "name": "python3"
  },
  "language_info": {
   "codemirror_mode": {
    "name": "ipython",
    "version": 3
   },
   "file_extension": ".py",
   "mimetype": "text/x-python",
   "name": "python",
   "nbconvert_exporter": "python",
   "pygments_lexer": "ipython3",
   "version": "3.11.7"
  }
 },
 "nbformat": 4,
 "nbformat_minor": 2
}
