{
 "cells": [
  {
   "cell_type": "code",
   "execution_count": 1,
   "metadata": {},
   "outputs": [
    {
     "name": "stdout",
     "output_type": "stream",
     "text": [
      "Connection successful!\n"
     ]
    }
   ],
   "source": [
    "from neomodel import config, db\n",
    "import os\n",
    "\n",
    "# Configure the connection to the Neo4j database\n",
    "config.DATABASE_URL = os.getenv(\"NEO4J_URI\")\n",
    "\n",
    "# check connection\n",
    "try:\n",
    "    # Attempt to run a simple query\n",
    "    db.cypher_query(\"MATCH (n) RETURN count(n)\")\n",
    "    print(\"Connection successful!\")\n",
    "except Exception as e:\n",
    "    print(f\"Connection failed: {e}\")"
   ]
  },
  {
   "cell_type": "code",
   "execution_count": 2,
   "metadata": {},
   "outputs": [],
   "source": [
    "import json\n",
    "from typing import Any, Dict  \n",
    "from neomodel import StructuredNode, StringProperty, RelationshipTo, StructuredRel  \n",
    "from pydantic import BaseModel  \n",
    "  \n",
    "  \n",
    "# Define relationship models  \n",
    "class ReferencesRel(StructuredRel):  \n",
    "    name = StringProperty()  \n",
    "    description = StringProperty()  \n",
    "  \n",
    "  \n",
    "# Define node models  \n",
    "class Interface(StructuredNode):  \n",
    "    name = StringProperty(unique_index=True)  \n",
    "    summary = StringProperty()  \n",
    "    namespace = StringProperty()  \n",
    "    assembly = StringProperty()  \n",
    "    references = RelationshipTo(\"Interface\", \"REFERENCES\", model=ReferencesRel)  \n",
    "  \n",
    "  \n",
    "class Metadata(BaseModel):  \n",
    "    name: str  \n",
    "    summary: str  \n",
    "    namespace: str  \n",
    "    assembly: str  \n",
    "    type_references: list[str]  \n",
    "  \n",
    "  \n",
    "def extract_metadata(key: str, value: Any) -> Metadata:  \n",
    "    return Metadata(  \n",
    "        name=key,  \n",
    "        summary=value[\"summary\"],  \n",
    "        namespace=value[\"namespace\"],  \n",
    "        assembly=value[\"assembly\"],  \n",
    "        type_references=value[\"type_references\"],  \n",
    "    )  \n",
    "  \n",
    "  \n",
    "def create_graph_from_interfaces(interfaces: Dict[str, Any]):  \n",
    "    interface_nodes : Dict[str, Interface] = {}  \n",
    "  \n",
    "    # Create interface nodes  \n",
    "    for key, value in interfaces.items():  \n",
    "        metadata = extract_metadata(key, value)  \n",
    "        if metadata.name not in interface_nodes:  \n",
    "            interface_node = Interface(  \n",
    "                name=metadata.name,  \n",
    "                summary=metadata.summary,  \n",
    "                namespace=metadata.namespace,  \n",
    "                assembly=metadata.assembly,  \n",
    "            ).save()  \n",
    "            interface_nodes[metadata.name] = interface_node  \n",
    "  \n",
    "    # Create references between interface nodes  \n",
    "    for key, value in interfaces.items():  \n",
    "        metadata = extract_metadata(key, value)  \n",
    "        source_node = interface_nodes[metadata.name]  \n",
    "        for ref_name in metadata.type_references:  \n",
    "            if ref_name in interface_nodes and ref_name != metadata.name:  # Skip self-references  \n",
    "                target_node = interface_nodes[ref_name]  \n",
    "                if not source_node.references.is_connected(target_node):  \n",
    "                    source_node.references.connect(target_node) \n",
    "\n",
    "\n",
    "# Load all interfaces from the single JSON file\n",
    "with open(\"scraped_domain_knowledge.json\", \"r\", encoding=\"utf8\") as f:  \n",
    "    interfaces: Dict[str, Any] = json.load(f)  \n",
    "  \n",
    "create_graph_from_interfaces(interfaces)  \n"
   ]
  }
 ],
 "metadata": {
  "kernelspec": {
   "display_name": "Python 3",
   "language": "python",
   "name": "python3"
  },
  "language_info": {
   "codemirror_mode": {
    "name": "ipython",
    "version": 3
   },
   "file_extension": ".py",
   "mimetype": "text/x-python",
   "name": "python",
   "nbconvert_exporter": "python",
   "pygments_lexer": "ipython3",
   "version": "3.11.7"
  }
 },
 "nbformat": 4,
 "nbformat_minor": 2
}
