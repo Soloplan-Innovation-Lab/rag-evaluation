{
 "cells": [
  {
   "cell_type": "markdown",
   "metadata": {},
   "source": [
    "# Creating a dataset for customer workflow configuration usage behaviour\n",
    "\n",
    "This script analyzes all customer configurations, extracting knowledge about the workflow usage, like most common `Event` and `Action` types, as well as the most common `Action` and `Event` sequences. This information can be used to improve the product, by suggesting the most common actions to the user, or to improve the documentation, by providing examples of common workflows."
   ]
  },
  {
   "cell_type": "markdown",
   "metadata": {},
   "source": [
    "## Parsing logic\n",
    "\n",
    "Parses the following information:\n",
    "\n",
    "- `Event` and `Action` types _(frequency of their occurrence)_\n",
    "- `Action` and `Event` sequences _(frequency of their occurrence)_"
   ]
  },
  {
   "cell_type": "code",
   "execution_count": 1,
   "metadata": {},
   "outputs": [],
   "source": [
    "from collections import Counter\n",
    "from typing import Tuple\n",
    "from xml.etree import ElementTree as ET\n",
    "\n",
    "def parse_xml(xml_content: str) -> Tuple[Counter, Counter, Counter, Counter]:\n",
    "    # layer 1: get all event, action, and condition tags\n",
    "    event_dict = Counter()\n",
    "    action_dict = Counter()\n",
    "    condition_dict = Counter()\n",
    "    # layer 2: get all pairs of event and action tags\n",
    "    event_action_pair_dict = Counter()\n",
    "    # Function to recursively parse elements and update frequencies\n",
    "    def parse_element(element: ET.Element, current_event=None):\n",
    "        for child in element:\n",
    "            if \"EventId\" in child.attrib:\n",
    "                event_dict[child.tag] += 1\n",
    "                current_event = child.tag\n",
    "            elif \"ActionId\" in child.attrib:\n",
    "                action_dict[child.tag] += 1\n",
    "                if current_event:\n",
    "                    event_action_pair_dict[(current_event, child.tag)] += 1\n",
    "            elif child.tag.endswith(\"Condition\"):\n",
    "                condition_dict[child.tag] += 1\n",
    "            elif child.tag == \"Conditions\":\n",
    "                if \"Type\" in child.attrib:\n",
    "                    if child.attrib[\"Type\"] == \"OR\":\n",
    "                        condition_dict[\"CompositeConditionOr\"] += 1\n",
    "                    elif child.attrib[\"Type\"] == \"AND\":\n",
    "                        condition_dict[\"CompositeConditionAnd\"] += 1\n",
    "                parse_element(child, current_event)\n",
    "            parse_element(child, current_event)\n",
    "    # Parse the XML data\n",
    "    root = ET.fromstring(xml_content)\n",
    "    for business_object in root.findall(\"BusinessObject\"):\n",
    "        parse_element(business_object)\n",
    "    return event_dict, action_dict, event_action_pair_dict, condition_dict"
   ]
  },
  {
   "cell_type": "code",
   "execution_count": 2,
   "metadata": {},
   "outputs": [],
   "source": [
    "from concurrent.futures import ThreadPoolExecutor, as_completed\n",
    "from collections import Counter\n",
    "from internal_shared.parsing.workflows import get_workflows_content\n",
    "\n",
    "events = Counter()\n",
    "actions = Counter()\n",
    "pairs = Counter()\n",
    "conditions = Counter()\n",
    "\n",
    "xml_contents = get_workflows_content(use_default_filter=True)\n",
    "\n",
    "with ThreadPoolExecutor() as executor:\n",
    "    futures = {executor.submit(parse_xml, content): content for content in xml_contents}\n",
    "    for future in as_completed(futures):\n",
    "        event_dict, action_dict, event_action_pair_dict, condition_dict = future.result()\n",
    "        events.update(event_dict)\n",
    "        actions.update(action_dict)\n",
    "        pairs.update(event_action_pair_dict)\n",
    "        conditions.update(condition_dict)"
   ]
  },
  {
   "cell_type": "markdown",
   "metadata": {},
   "source": [
    "This cell converts data to dataframes and save them to CSV files."
   ]
  },
  {
   "cell_type": "code",
   "execution_count": 3,
   "metadata": {},
   "outputs": [],
   "source": [
    "import pandas as pd\n",
    "\n",
    "df = pd.DataFrame(\n",
    "    {\n",
    "        \"type\": [\"Event\"] * len(events)\n",
    "        + [\"Action\"] * len(actions)\n",
    "        + [\"Condition\"] * len(conditions),\n",
    "        \"name\": list(events.keys()) + list(actions.keys()) + list(conditions.keys()),\n",
    "        \"frequency\": list(events.values())\n",
    "        + list(actions.values())\n",
    "        + list(conditions.values()),\n",
    "    }\n",
    ")\n",
    "\n",
    "df.to_csv(\"/workspace/data/workflows/individual_freq.csv\", index=False)\n",
    "\n",
    "pair_df = pd.DataFrame(\n",
    "    {\n",
    "        \"event\": [pair[0] for pair in pairs.keys()],\n",
    "        \"action\": [pair[1] for pair in pairs.keys()],\n",
    "        \"frequency\": list(pairs.values()),\n",
    "    }\n",
    ")\n",
    "\n",
    "pair_df.to_csv(\"/workspace/data/workflows/pair_freq.csv\", index=False)"
   ]
  },
  {
   "cell_type": "markdown",
   "metadata": {},
   "source": [
    "## In-depth workflow analysis\n",
    "\n",
    "Starting here, this analyzes all the configurations, by going through the top 3 events and actions. Each possible combination is checkend and all business objects, that meet these criteria, are stored in a dictionary.\n",
    "Optionally, since conditions are not required, the top conditions are added to the matching criteria aswell."
   ]
  },
  {
   "cell_type": "code",
   "execution_count": 4,
   "metadata": {},
   "outputs": [
    {
     "data": {
      "text/plain": [
       "(['OnPropertyChanged', 'OnCustomEvent', 'OnBeforeCommit'],\n",
       " ['SetValueByConst', 'SetValueByProperty', 'SetValueByExpression'],\n",
       " ['ExpressionCondition', 'CompositeConditionAnd', 'CompositeConditionOr'])"
      ]
     },
     "execution_count": 4,
     "metadata": {},
     "output_type": "execute_result"
    }
   ],
   "source": [
    "# from df, get top 3 most frequent events, actions, and conditions\n",
    "top_events = df[df[\"type\"] == \"Event\"].nlargest(3, \"frequency\")[\"name\"].tolist()\n",
    "top_actions = df[df[\"type\"] == \"Action\"].nlargest(3, \"frequency\")[\"name\"].tolist()\n",
    "top_conditions = df[df[\"type\"] == \"Condition\"].nlargest(3, \"frequency\")[\"name\"].tolist()\n",
    "\n",
    "top_events, top_actions, top_conditions"
   ]
  },
  {
   "cell_type": "code",
   "execution_count": 25,
   "metadata": {},
   "outputs": [],
   "source": [
    "import xml.etree.ElementTree as ET\n",
    "from typing import List, Tuple\n",
    "\n",
    "\n",
    "def find_top_combinations(\n",
    "    xml_content: str,\n",
    "    top_events: List[str],\n",
    "    top_actions: List[str],\n",
    "    top_conditions: List[str],\n",
    ") -> Tuple[List[dict], int]:\n",
    "    \"\"\"Find and extract BusinessObjects containing top combinations of events, actions, and conditions along with their metadata.\"\"\"\n",
    "    extracted_objects = []\n",
    "\n",
    "    root = ET.fromstring(xml_content)\n",
    "    business_objects = root.findall(\"BusinessObject\")\n",
    "    for business_object in business_objects:\n",
    "        match_data = has_top_combination(\n",
    "            business_object, top_events, top_actions, top_conditions\n",
    "        )\n",
    "        if match_data:\n",
    "            extracted_objects.append({\n",
    "                \"element\": business_object,\n",
    "                \"matches\": match_data\n",
    "            })\n",
    "\n",
    "    return extracted_objects, len(business_objects)\n",
    "\n",
    "def has_top_combination(\n",
    "    business_object: ET.Element,\n",
    "    top_events: List[str],\n",
    "    top_actions: List[str],\n",
    "    top_conditions: List[str],\n",
    ") -> dict:\n",
    "    \"\"\"Check if the BusinessObject contains any of the top event, action, and condition combinations. Returns matching combinations.\"\"\"\n",
    "    events = {child.tag for child in business_object.findall(\".//*[@EventId]\")}\n",
    "    actions = {child.tag for child in business_object.findall(\".//*[@ActionId]\")}\n",
    "    conditions = {\n",
    "        child.tag\n",
    "        for child in business_object.iter()\n",
    "        if child.tag.endswith('Condition')\n",
    "    }\n",
    "    matches = {\"events\": [], \"actions\": [], \"conditions\": []}\n",
    "    for event in top_events:\n",
    "        if event in events:\n",
    "            matches[\"events\"].append(event)\n",
    "    for action in top_actions:\n",
    "        if action in actions:\n",
    "            matches[\"actions\"].append(action)\n",
    "    for condition in top_conditions:\n",
    "        if condition in conditions:\n",
    "            matches[\"conditions\"].append(condition)\n",
    "\n",
    "    if matches[\"events\"] and matches[\"actions\"]:\n",
    "        return matches\n",
    "    return {}\n",
    "\n",
    "\n",
    "def ends_with_name(element: ET.Element, suffix: str) -> bool:\n",
    "    \"\"\"Helper function to check if the element tag ends with a given suffix.\"\"\"\n",
    "    return element.tag.endswith(suffix)"
   ]
  },
  {
   "cell_type": "code",
   "execution_count": 27,
   "metadata": {},
   "outputs": [],
   "source": [
    "from internal_shared.parsing.workflows import get_workflows_content\n",
    "\n",
    "xml_contents = get_workflows_content(use_default_filter=True)\n",
    "\n",
    "extracted_objects = []\n",
    "all_business_objects = 0\n",
    "\n",
    "for content in xml_contents:\n",
    "    combination, total_for_content = find_top_combinations(\n",
    "        content, top_events, top_actions, top_conditions\n",
    "    )\n",
    "    extracted_objects.extend(combination)\n",
    "    all_business_objects += total_for_content"
   ]
  },
  {
   "cell_type": "code",
   "execution_count": 33,
   "metadata": {},
   "outputs": [
    {
     "data": {
      "text/plain": [
       "(11416, 22109, 0.52)"
      ]
     },
     "execution_count": 33,
     "metadata": {},
     "output_type": "execute_result"
    }
   ],
   "source": [
    "len(extracted_objects), all_business_objects, round(len(extracted_objects) / all_business_objects, 2)"
   ]
  },
  {
   "cell_type": "code",
   "execution_count": 35,
   "metadata": {},
   "outputs": [
    {
     "data": {
      "text/plain": [
       "5010"
      ]
     },
     "execution_count": 35,
     "metadata": {},
     "output_type": "execute_result"
    }
   ],
   "source": [
    "results_without_conditions = [ob for ob in extracted_objects if not ob.get(\"matches\").get(\"conditions\")]\n",
    "len(results_without_conditions)"
   ]
  },
  {
   "cell_type": "markdown",
   "metadata": {},
   "source": [
    "As shown in the examples above, over 10.000 configurations meet the criteria of the top 3 events and actions. This is actually makes a lot of sense, as the top 3 actions and events already make up almost 90% of all actions and events!\n",
    "\n",
    "Thus, the results, that these combinations make up to 52% of all configurations, is not suprising. It is worth mentioning, that one workflow is able to have multiple actions and conditions, which is why we only get 52% of all configurations.\n",
    "\n",
    "Around 5000 of these configurations have no conditions.\n",
    "\n",
    "\n",
    "The overall idea of this analysis was to get a small subset of \"common\" workflows, that can be used as examples to let the LLM create these workflows. These results should have been obvious in the first place. Now, automatically extracting these does not make sense, as 10.000+ configurations are still too many to be used as examples.\n",
    "\n",
    "The next idea is to simply gather these manually and try first steps with the LLM. The `workflows.md` file contains more information that has been gathered, to explain all parts of the workflows. It also describes, which parts (e.g. events, actions and conditions) are used for the first few tests, as these should only demonstrate, if it is even possible to create workflows with a LLM."
   ]
  },
  {
   "cell_type": "code",
   "execution_count": 21,
   "metadata": {},
   "outputs": [
    {
     "data": {
      "text/plain": [
       "{'element': <Element 'BusinessObject' at 0x7f9117617920>,\n",
       " 'matches': {'events': ['OnCustomEvent'],\n",
       "  'actions': ['SetValueByConst'],\n",
       "  'conditions': ['ExpressionCondition']}}"
      ]
     },
     "execution_count": 21,
     "metadata": {},
     "output_type": "execute_result"
    }
   ],
   "source": [
    "extracted_objects[555]"
   ]
  },
  {
   "cell_type": "code",
   "execution_count": 46,
   "metadata": {},
   "outputs": [
    {
     "name": "stdout",
     "output_type": "stream",
     "text": [
      "<BusinessObject TypePropertyId=\"145000\">\n",
      "    <OnCustomEvent EventId=\"78fd925bb16c4907929245935b235ace\" EventActive=\"False\" EventDescription=\"Wert (RG) mit %-Satz in das Feld @Wert ILV schreiben [Sendung / Freie Aktion]\" Instruction=\"???\" IsContextMenu=\"True\" ShowParamDialog=\"DoNotShow\">\n",
      "      <SetValueByExpression ActionId=\"791b24c3-00ad-4d14-ba4f-0af285fadde9\" Description=\"zur manuellen Verarbeitung genutzt\" TargetProperty=\"700037\" Expression=\"TODECIMAL([700046] * 0.8)\" />\n",
      "      <ReActGroup Id=\"21311890\" />\n",
      "    </OnCustomEvent>\n",
      "  </BusinessObject>\n"
     ]
    }
   ],
   "source": [
    "import xml.etree.ElementTree as ET\n",
    "\n",
    "xml_str = ET.tostring(extracted_objects[5][\"element\"], encoding='unicode')\n",
    "print(xml_str.strip())"
   ]
  },
  {
   "cell_type": "code",
   "execution_count": 23,
   "metadata": {},
   "outputs": [
    {
     "data": {
      "text/plain": [
       "{'element': <Element 'BusinessObject' at 0x7f911e0cb290>,\n",
       " 'matches': {'events': ['OnPropertyChanged'],\n",
       "  'actions': ['SetValueByProperty', 'SetValueByExpression'],\n",
       "  'conditions': []}}"
      ]
     },
     "execution_count": 23,
     "metadata": {},
     "output_type": "execute_result"
    }
   ],
   "source": [
    "results_without_conditions[0]"
   ]
  },
  {
   "cell_type": "code",
   "execution_count": 34,
   "metadata": {},
   "outputs": [],
   "source": [
    "import xml.etree.ElementTree as ET\n",
    "\n",
    "# Assume 'root' is your ElementTree object\n",
    "tree = ET.ElementTree(results_without_conditions[0][\"element\"])\n",
    "\n",
    "# Specify the file name and path\n",
    "file_name = \"output.xml\"\n",
    "\n",
    "# Write the tree to the file\n",
    "tree.write(file_name, encoding=\"utf-8\", xml_declaration=True)"
   ]
  }
 ],
 "metadata": {
  "kernelspec": {
   "display_name": "Python 3",
   "language": "python",
   "name": "python3"
  },
  "language_info": {
   "codemirror_mode": {
    "name": "ipython",
    "version": 3
   },
   "file_extension": ".py",
   "mimetype": "text/x-python",
   "name": "python",
   "nbconvert_exporter": "python",
   "pygments_lexer": "ipython3",
   "version": "3.11.7"
  }
 },
 "nbformat": 4,
 "nbformat_minor": 2
}
