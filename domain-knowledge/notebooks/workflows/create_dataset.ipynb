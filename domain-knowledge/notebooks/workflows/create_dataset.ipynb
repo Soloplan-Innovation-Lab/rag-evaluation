{
 "cells": [
  {
   "cell_type": "markdown",
   "metadata": {},
   "source": [
    "# Creating a dataset for customer workflow configuration usage behaviour\n",
    "\n",
    "This script analyzes all customer configurations, extracting knowledge about the workflow usage, like most common `Event` and `Action` types, as well as the most common `Action` and `Event` sequences. This information can be used to improve the product, by suggesting the most common actions to the user, or to improve the documentation, by providing examples of common workflows.\n",
    "\n",
    "This first cell contains all the general functionality in order to parse the correct files."
   ]
  },
  {
   "cell_type": "code",
   "execution_count": 1,
   "metadata": {},
   "outputs": [],
   "source": [
    "from collections import Counter\n",
    "from typing import List, Tuple\n",
    "import xml.etree.ElementTree as ET\n",
    "from pathlib import Path\n",
    "\n",
    "\n",
    "def load_xml_file(file_path: str | Path) -> str:\n",
    "    with open(file_path, \"r\") as file:\n",
    "        return file.read()\n",
    "\n",
    "\n",
    "def should_exclude_path(file_path: Path) -> bool:\n",
    "    # Exclude folders containing \"SOLOPLAN\" (case insensitive)\n",
    "    if any(\"SOLOPLAN\" in part.upper() for part in file_path.parts):\n",
    "        return True\n",
    "    # Exclude \"TestSystem\" subfolder\n",
    "    if \"TestSystem\" in file_path.parts:\n",
    "        return True\n",
    "    return False\n",
    "\n",
    "\n",
    "def should_exclude_file(file_path: Path) -> bool:\n",
    "    # Exclude files with \"Options\" or \"Property\" in their name\n",
    "    if \"Options\" in file_path.name or \"Property\" in file_path.name:\n",
    "        return True\n",
    "    return False\n",
    "\n",
    "\n",
    "# Get all XML files\n",
    "all_files: List[Path] = []\n",
    "for file in Path(\"/workspace/data/customer_data/workflows\").rglob(\"*.xml\"):\n",
    "    all_files.append(file)"
   ]
  },
  {
   "cell_type": "markdown",
   "metadata": {},
   "source": [
    "## Parsing logic\n",
    "\n",
    "Parses the following information:\n",
    "\n",
    "- `Event` and `Action` types _(frequency of their occurrence)_\n",
    "- `Action` and `Event` sequences _(frequency of their occurrence)_"
   ]
  },
  {
   "cell_type": "code",
   "execution_count": 2,
   "metadata": {},
   "outputs": [],
   "source": [
    "def parse_xml(xml_content: str) -> Tuple[Counter, Counter, Counter]:\n",
    "    event_dict = Counter()\n",
    "    action_dict = Counter()\n",
    "    pair_dict = Counter()\n",
    "\n",
    "    # Function to recursively parse elements and update frequencies\n",
    "    def parse_element(element: ET.Element, current_event=None):\n",
    "        for child in element:\n",
    "            if \"EventId\" in child.attrib:\n",
    "                event_dict[child.tag] += 1\n",
    "                current_event = child.tag\n",
    "            if \"ActionId\" in child.attrib:\n",
    "                action_dict[child.tag] += 1\n",
    "                if current_event:\n",
    "                    pair_dict[(current_event, child.tag)] += 1\n",
    "            parse_element(child, current_event)\n",
    "\n",
    "    # Parse the XML data\n",
    "    root = ET.fromstring(xml_content)\n",
    "    for business_object in root.findall(\"BusinessObject\"):\n",
    "        parse_element(business_object)\n",
    "\n",
    "    return event_dict, action_dict, pair_dict\n",
    "\n",
    "\n",
    "file_contents = {file: load_xml_file(file) for file in all_files}\n",
    "\n",
    "events = Counter()\n",
    "actions = Counter()\n",
    "pairs = Counter()\n",
    "\n",
    "# Parse each file and update the overall counters\n",
    "for file, content in file_contents.items():\n",
    "    if should_exclude_path(file) or should_exclude_file(file):\n",
    "        continue\n",
    "\n",
    "    e, a, p = parse_xml(content)\n",
    "    events.update(e)\n",
    "    actions.update(a)\n",
    "    pairs.update(p)"
   ]
  },
  {
   "cell_type": "markdown",
   "metadata": {},
   "source": [
    "This cell converts data to dataframes and save them to CSV files."
   ]
  },
  {
   "cell_type": "code",
   "execution_count": 3,
   "metadata": {},
   "outputs": [],
   "source": [
    "import pandas as pd\n",
    "\n",
    "df = pd.DataFrame(\n",
    "    {\n",
    "        \"type\": [\"Event\"] * len(events) + [\"Action\"] * len(actions),\n",
    "        \"name\": list(events.keys()) + list(actions.keys()),\n",
    "        \"frequency\": list(events.values()) + list(actions.values()),\n",
    "    }\n",
    ")\n",
    "\n",
    "df.to_csv(\"/workspace/data/workflows/individual_freq.csv\", index=False)\n",
    "\n",
    "pair_df = pd.DataFrame(\n",
    "    {\n",
    "        \"event\": [pair[0] for pair in pairs.keys()],\n",
    "        \"action\": [pair[1] for pair in pairs.keys()],\n",
    "        \"frequency\": list(pairs.values()),\n",
    "    }\n",
    ")\n",
    "\n",
    "pair_df.to_csv(\"/workspace/data/workflows/pair_freq.csv\", index=False)"
   ]
  }
 ],
 "metadata": {
  "kernelspec": {
   "display_name": "Python 3",
   "language": "python",
   "name": "python3"
  },
  "language_info": {
   "codemirror_mode": {
    "name": "ipython",
    "version": 3
   },
   "file_extension": ".py",
   "mimetype": "text/x-python",
   "name": "python",
   "nbconvert_exporter": "python",
   "pygments_lexer": "ipython3",
   "version": "3.11.7"
  }
 },
 "nbformat": 4,
 "nbformat_minor": 2
}
