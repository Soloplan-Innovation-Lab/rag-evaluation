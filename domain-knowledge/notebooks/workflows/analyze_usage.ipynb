{
 "cells": [
  {
   "cell_type": "markdown",
   "metadata": {},
   "source": [
    "# Workflows usage behviour analysis\n",
    "\n",
    "Analysis of the usage behaviour of the workflows in the dataset."
   ]
  },
  {
   "cell_type": "code",
   "execution_count": 1,
   "metadata": {},
   "outputs": [
    {
     "data": {
      "text/html": [
       "<div>\n",
       "<style scoped>\n",
       "    .dataframe tbody tr th:only-of-type {\n",
       "        vertical-align: middle;\n",
       "    }\n",
       "\n",
       "    .dataframe tbody tr th {\n",
       "        vertical-align: top;\n",
       "    }\n",
       "\n",
       "    .dataframe thead th {\n",
       "        text-align: right;\n",
       "    }\n",
       "</style>\n",
       "<table border=\"1\" class=\"dataframe\">\n",
       "  <thead>\n",
       "    <tr style=\"text-align: right;\">\n",
       "      <th></th>\n",
       "      <th>type</th>\n",
       "      <th>name</th>\n",
       "      <th>frequency</th>\n",
       "    </tr>\n",
       "  </thead>\n",
       "  <tbody>\n",
       "    <tr>\n",
       "      <th>8</th>\n",
       "      <td>Action</td>\n",
       "      <td>SetValueByConst</td>\n",
       "      <td>20642</td>\n",
       "    </tr>\n",
       "    <tr>\n",
       "      <th>12</th>\n",
       "      <td>Action</td>\n",
       "      <td>SetValueByProperty</td>\n",
       "      <td>10977</td>\n",
       "    </tr>\n",
       "    <tr>\n",
       "      <th>1</th>\n",
       "      <td>Event</td>\n",
       "      <td>OnPropertyChanged</td>\n",
       "      <td>8346</td>\n",
       "    </tr>\n",
       "    <tr>\n",
       "      <th>3</th>\n",
       "      <td>Event</td>\n",
       "      <td>OnCustomEvent</td>\n",
       "      <td>7986</td>\n",
       "    </tr>\n",
       "    <tr>\n",
       "      <th>14</th>\n",
       "      <td>Action</td>\n",
       "      <td>SetValueByExpression</td>\n",
       "      <td>7641</td>\n",
       "    </tr>\n",
       "  </tbody>\n",
       "</table>\n",
       "</div>"
      ],
      "text/plain": [
       "      type                  name  frequency\n",
       "8   Action       SetValueByConst      20642\n",
       "12  Action    SetValueByProperty      10977\n",
       "1    Event     OnPropertyChanged       8346\n",
       "3    Event         OnCustomEvent       7986\n",
       "14  Action  SetValueByExpression       7641"
      ]
     },
     "execution_count": 1,
     "metadata": {},
     "output_type": "execute_result"
    }
   ],
   "source": [
    "import pandas as pd\n",
    "\n",
    "individual_df = pd.read_csv(\"/workspace/data/workflows/individual_freq.csv\")\n",
    "individual_df.sort_values(\"frequency\", ascending=False)[:5]"
   ]
  },
  {
   "cell_type": "code",
   "execution_count": 2,
   "metadata": {},
   "outputs": [
    {
     "data": {
      "text/html": [
       "<div>\n",
       "<style scoped>\n",
       "    .dataframe tbody tr th:only-of-type {\n",
       "        vertical-align: middle;\n",
       "    }\n",
       "\n",
       "    .dataframe tbody tr th {\n",
       "        vertical-align: top;\n",
       "    }\n",
       "\n",
       "    .dataframe thead th {\n",
       "        text-align: right;\n",
       "    }\n",
       "</style>\n",
       "<table border=\"1\" class=\"dataframe\">\n",
       "  <thead>\n",
       "    <tr style=\"text-align: right;\">\n",
       "      <th></th>\n",
       "      <th>event</th>\n",
       "      <th>action</th>\n",
       "      <th>frequency</th>\n",
       "    </tr>\n",
       "  </thead>\n",
       "  <tbody>\n",
       "    <tr>\n",
       "      <th>5</th>\n",
       "      <td>OnCustomEvent</td>\n",
       "      <td>SetValueByConst</td>\n",
       "      <td>7114</td>\n",
       "    </tr>\n",
       "    <tr>\n",
       "      <th>2</th>\n",
       "      <td>OnPropertyChanged</td>\n",
       "      <td>SetValueByConst</td>\n",
       "      <td>6965</td>\n",
       "    </tr>\n",
       "    <tr>\n",
       "      <th>28</th>\n",
       "      <td>OnCustomEvent</td>\n",
       "      <td>SetValueByProperty</td>\n",
       "      <td>5337</td>\n",
       "    </tr>\n",
       "    <tr>\n",
       "      <th>34</th>\n",
       "      <td>OnBeforeCommit</td>\n",
       "      <td>SetValueByConst</td>\n",
       "      <td>3579</td>\n",
       "    </tr>\n",
       "    <tr>\n",
       "      <th>1</th>\n",
       "      <td>OnPropertyChanged</td>\n",
       "      <td>OnPropertyChanged</td>\n",
       "      <td>3425</td>\n",
       "    </tr>\n",
       "  </tbody>\n",
       "</table>\n",
       "</div>"
      ],
      "text/plain": [
       "                event              action  frequency\n",
       "5       OnCustomEvent     SetValueByConst       7114\n",
       "2   OnPropertyChanged     SetValueByConst       6965\n",
       "28      OnCustomEvent  SetValueByProperty       5337\n",
       "34     OnBeforeCommit     SetValueByConst       3579\n",
       "1   OnPropertyChanged   OnPropertyChanged       3425"
      ]
     },
     "execution_count": 2,
     "metadata": {},
     "output_type": "execute_result"
    }
   ],
   "source": [
    "pair_df = pd.read_csv(\"/workspace/data/workflows/pair_freq.csv\")\n",
    "pair_df.sort_values(\"frequency\", ascending=False)[:5]"
   ]
  },
  {
   "cell_type": "markdown",
   "metadata": {},
   "source": [
    "## Plot the individual frequency of actions and events"
   ]
  },
  {
   "cell_type": "code",
   "execution_count": 28,
   "metadata": {},
   "outputs": [],
   "source": [
    "import matplotlib.pyplot as plt\n",
    "import seaborn as sns\n",
    "from matplotlib.colors import ListedColormap\n",
    "\n",
    "\n",
    "def plot_individual_frequency(\n",
    "    dataframe: pd.DataFrame,\n",
    "    name: str,\n",
    "    cmap: str,\n",
    "    top: int = 5,\n",
    "    xlabel: str = None,\n",
    "    ylabel: str = None,\n",
    "    x: str = \"name\",\n",
    "    y: str = \"frequency\",\n",
    "    has_long_text: bool = False,\n",
    "):\n",
    "    internal_df = dataframe.sort_values(\"frequency\", ascending=False)\n",
    "    internal_df = internal_df.head(top)\n",
    "\n",
    "    # create colors\n",
    "    unique_names = internal_df[x].unique()\n",
    "    colors = ListedColormap(sns.color_palette(cmap, len(unique_names)))\n",
    "    color_dict = {cat: colors(i) for i, cat in enumerate(unique_names)}\n",
    "    name_colors = internal_df[x].map(color_dict).tolist()\n",
    "\n",
    "    plt.figure(figsize=(20, 10))\n",
    "    plt.suptitle(f\"Top {top} {name}\", fontsize=25)\n",
    "\n",
    "    plt.subplot(1, 2, 1)\n",
    "    sns.barplot(\n",
    "        data=internal_df,\n",
    "        x=x,\n",
    "        y=y,\n",
    "        hue=x,\n",
    "        palette=name_colors,\n",
    "        legend=False,\n",
    "    )\n",
    "    plt.xlabel(xlabel or f\"'{name}' Name\")\n",
    "    plt.ylabel(ylabel or \"Frequency\")\n",
    "    if has_long_text:\n",
    "        plt.xticks(rotation=45, ha=\"right\")\n",
    "\n",
    "    plt.subplot(1, 2, 2)\n",
    "    plt.pie(\n",
    "        internal_df[y],\n",
    "        labels=internal_df[x],\n",
    "        autopct=\"%1.1f%%\",\n",
    "        startangle=140,\n",
    "        colors=name_colors,\n",
    "    )\n",
    "\n",
    "    plt.tight_layout()\n",
    "    plt.show()"
   ]
  },
  {
   "cell_type": "code",
   "execution_count": null,
   "metadata": {},
   "outputs": [],
   "source": [
    "events_df = individual_df[individual_df['type'] == 'Event']\n",
    "plot_individual_frequency(events_df, \"Events\", \"magma_r\", xlabel=\"Event Name\")"
   ]
  },
  {
   "cell_type": "code",
   "execution_count": null,
   "metadata": {},
   "outputs": [],
   "source": [
    "actions_df = individual_df[individual_df['type'] == 'Action']\n",
    "plot_individual_frequency(actions_df, \"Actions\", \"viridis_r\", xlabel=\"Action Name\")"
   ]
  },
  {
   "cell_type": "code",
   "execution_count": null,
   "metadata": {},
   "outputs": [],
   "source": [
    "plt.figure(figsize=(20, 10))\n",
    "\n",
    "plt.suptitle(\"Top 10 Events (left) and Actions (right)\", fontsize=20)\n",
    "\n",
    "plt.subplot(1, 2, 1)\n",
    "sns.barplot(\n",
    "    data=events_df.sort_values(\"frequency\", ascending=False)[:10],\n",
    "    x=\"frequency\",\n",
    "    y=\"name\",\n",
    "    hue=\"name\",\n",
    "    palette=\"magma\",\n",
    "    legend=False,\n",
    ")\n",
    "plt.xlabel(\"Frequency\")\n",
    "plt.ylabel(\"Event Name\")\n",
    "\n",
    "plt.subplot(1, 2, 2)\n",
    "sns.barplot(\n",
    "    data=actions_df.sort_values(\"frequency\", ascending=False)[:10],\n",
    "    x=\"frequency\",\n",
    "    y=\"name\",\n",
    "    hue=\"name\",\n",
    "    palette=\"magma\",\n",
    "    legend=False,\n",
    ")\n",
    "plt.xlabel(\"Frequency\")\n",
    "plt.ylabel(\"Action Name\")\n",
    "plt.gca().invert_xaxis()\n",
    "plt.gca().yaxis.tick_right()\n",
    "plt.gca().yaxis.set_label_position(\"right\")\n",
    "\n",
    "plt.tight_layout()\n",
    "plt.show()"
   ]
  },
  {
   "cell_type": "markdown",
   "metadata": {},
   "source": [
    "## Plots for the frequency of actions and events sequences (pairs)"
   ]
  },
  {
   "cell_type": "code",
   "execution_count": null,
   "metadata": {},
   "outputs": [],
   "source": [
    "pair_df['event_action'] = pair_df['event'] + ' - ' + pair_df['action']\n",
    "pair_df"
   ]
  },
  {
   "cell_type": "code",
   "execution_count": null,
   "metadata": {},
   "outputs": [],
   "source": [
    "plot_individual_frequency(\n",
    "    pair_df,\n",
    "    \"Event-Action Pairs\",\n",
    "    \"viridis_r\",\n",
    "    x=\"event_action\",\n",
    "    y=\"frequency\",\n",
    "    xlabel=\"Event-Action Pair\",\n",
    "    top=10,\n",
    "    has_long_text=True,\n",
    ")"
   ]
  }
 ],
 "metadata": {
  "kernelspec": {
   "display_name": "Python 3",
   "language": "python",
   "name": "python3"
  },
  "language_info": {
   "codemirror_mode": {
    "name": "ipython",
    "version": 3
   },
   "file_extension": ".py",
   "mimetype": "text/x-python",
   "name": "python",
   "nbconvert_exporter": "python",
   "pygments_lexer": "ipython3",
   "version": "3.11.7"
  }
 },
 "nbformat": 4,
 "nbformat_minor": 2
}
