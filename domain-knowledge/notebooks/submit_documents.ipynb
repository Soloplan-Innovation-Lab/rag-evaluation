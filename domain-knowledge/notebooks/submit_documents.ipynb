{
 "cells": [
  {
   "cell_type": "code",
   "execution_count": 1,
   "metadata": {},
   "outputs": [],
   "source": [
    "import os\n",
    "from azure.search.documents import SearchClient\n",
    "from azure.core.credentials import AzureKeyCredential\n",
    "from openai import AzureOpenAI\n",
    "from internal_shared.ai_models.available_models import EMBEDDING_3_LARGE\n",
    "\n",
    "client = AzureOpenAI(\n",
    "    api_key=EMBEDDING_3_LARGE.api_key,\n",
    "    api_version=EMBEDDING_3_LARGE.api_version,\n",
    "    azure_endpoint=EMBEDDING_3_LARGE.endpoint,\n",
    ")\n",
    "\n",
    "search_client = SearchClient(\n",
    "    endpoint=os.getenv(\"AZURE_AI_SEARCH_ENDPOINT\"),\n",
    "    index_name=os.getenv(\"AZURE_AI_SEARCH_INDEX\"),\n",
    "    credential=AzureKeyCredential(os.getenv(\"AZURE_AI_SEARCH_API_KEY\")),\n",
    ")"
   ]
  },
  {
   "cell_type": "code",
   "execution_count": 2,
   "metadata": {},
   "outputs": [
    {
     "name": "stdout",
     "output_type": "stream",
     "text": [
      "Embedded 580 documents\n"
     ]
    }
   ],
   "source": [
    "import os\n",
    "import json\n",
    "from typing import Any, Dict\n",
    "import uuid\n",
    "import time\n",
    "\n",
    "def embed_texts(texts):\n",
    "    # Create embeddings for a batch of texts\n",
    "    embedding_results = client.embeddings.create(\n",
    "        input=texts, model=EMBEDDING_3_LARGE.model_name\n",
    "    )\n",
    "    #texts = [text.replace(\"\\n\", \" \") for text in texts]\n",
    "    return [result.embedding for result in embedding_results.data]\n",
    "\n",
    "def create_search_document(content, embedding, metadata: Dict[str, Any]):\n",
    "    # Create a unique id for each document\n",
    "    document_id = str(uuid.uuid4())\n",
    "\n",
    "    # Combine content and metadata\n",
    "    document = {\n",
    "        \"id\": document_id,\n",
    "        \"content\": content,\n",
    "        \"embedding\": embedding,\n",
    "        \"name\": metadata.get(\"name\", \"\"),\n",
    "        \"summary\": metadata.get(\"summary\", \"\"),\n",
    "        \"type\": metadata.get(\"type\", \"\"),\n",
    "        \"namespace\": metadata.get(\"namespace\", \"\"),\n",
    "        \"assembly\": metadata.get(\"assembly\", \"\"),\n",
    "        \"type_references\": metadata.get(\"type_references\", []),\n",
    "        \"filename\": metadata.get(\"filename\", \"\"),\n",
    "        \"chunk_id\": metadata.get(\"chunk_id\", 0),\n",
    "        \"total_chunks\": metadata.get(\"total_chunks\", 1),\n",
    "        \"expected_embedding_size\": metadata.get(\"expected_embedding_size\", 0),\n",
    "    }\n",
    "\n",
    "    return document\n",
    "\n",
    "# Collect all documents\n",
    "documents = []\n",
    "contents = []\n",
    "metadata_list = []\n",
    "for filename in os.listdir(\"documents\"):\n",
    "    if filename.endswith(\".txt\"):\n",
    "        interface_name = filename[:-4]\n",
    "\n",
    "        # Read the text content\n",
    "        with open(f\"documents/{interface_name}.txt\", \"r\") as f:\n",
    "            content = f.read()\n",
    "            contents.append(content)\n",
    "\n",
    "        # Read the metadata\n",
    "        with open(f\"documents/{interface_name}.metadata.json\", \"r\") as f:\n",
    "            metadata = json.load(f)\n",
    "            metadata_list.append(metadata)\n",
    "\n",
    "# Create embeddings in batches\n",
    "batch_size = 1000  # we can access around 120k tokens per minute\n",
    "for i in range(0, len(contents), batch_size):\n",
    "    batch_contents = contents[i:i + batch_size]\n",
    "    batch_embeddings = embed_texts(batch_contents)\n",
    "\n",
    "    for j in range(len(batch_contents)):\n",
    "        document = create_search_document(batch_contents[j], batch_embeddings[j], metadata_list[i + j])\n",
    "        documents.append(document)\n",
    "    \n",
    "    # before next iteration, wait time to avoid rate limiting\n",
    "    time.sleep(30)\n",
    "\n",
    "print(f\"Embedded {len(documents)} documents\")"
   ]
  },
  {
   "cell_type": "code",
   "execution_count": 3,
   "metadata": {},
   "outputs": [
    {
     "name": "stdout",
     "output_type": "stream",
     "text": [
      "Uploaded batch 1 successfully.\n",
      "All 580 documents uploaded.\n"
     ]
    }
   ],
   "source": [
    "# Upload documents to Azure AI Search; supports uploading in batches up to 1000 documents\n",
    "UPLOAD_BATCH_SIZE = 1000\n",
    "\n",
    "for i in range(0, len(documents), UPLOAD_BATCH_SIZE):\n",
    "    batch = documents[i : i + UPLOAD_BATCH_SIZE]\n",
    "    results = search_client.upload_documents(documents=batch)\n",
    "    if all(result.succeeded for result in results):\n",
    "        print(f\"Uploaded batch {i // UPLOAD_BATCH_SIZE + 1} successfully.\")\n",
    "    else:\n",
    "        # check, which results failed\n",
    "        for result in results:\n",
    "            if not result.succeeded:\n",
    "                print(f\"Failed to upload document with ID {result.key}. Error: {result.error_message}\")\n",
    "\n",
    "print(f\"All {len(results)} documents uploaded.\")"
   ]
  },
  {
   "cell_type": "code",
   "execution_count": null,
   "metadata": {},
   "outputs": [],
   "source": [
    "delete_results = search_client.delete_documents(documents)\n",
    "if all(result.succeeded for result in delete_results):\n",
    "    print(f\"Deleted batch {i // UPLOAD_BATCH_SIZE + 1} successfully.\")\n",
    "else:\n",
    "    for result in delete_results:\n",
    "        if not result.succeeded:\n",
    "            print(f\"Failed to upload document with ID {result.key}. Error: {result.error_message}\")"
   ]
  }
 ],
 "metadata": {
  "kernelspec": {
   "display_name": "Python 3",
   "language": "python",
   "name": "python3"
  },
  "language_info": {
   "codemirror_mode": {
    "name": "ipython",
    "version": 3
   },
   "file_extension": ".py",
   "mimetype": "text/x-python",
   "name": "python",
   "nbconvert_exporter": "python",
   "pygments_lexer": "ipython3",
   "version": "3.11.7"
  }
 },
 "nbformat": 4,
 "nbformat_minor": 2
}
