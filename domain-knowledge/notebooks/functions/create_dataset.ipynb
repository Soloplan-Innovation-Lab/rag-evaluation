{
 "cells": [
  {
   "cell_type": "markdown",
   "metadata": {},
   "source": [
    "# Creating a dataset for customer expression usage behaviour\n",
    "\n",
    "This script analyzes all customer configurations, extracting knowledge about the expression usage. The script works in combination with the `scrape_devexpress_functions` notebook, as well as the code analysis tool to get all custom functions. Compared to the initial document chunking, this now includes more metadata about the expression itself, which can be beneficial for further analysis (and document retrieval).\n",
    "\n",
    "Currently, there are manual tasks for the custom functions: extracting examples and mapping to the correct category. "
   ]
  },
  {
   "cell_type": "markdown",
   "metadata": {},
   "source": [
    "This first cell contains all helper function for the parsing and extracting task."
   ]
  },
  {
   "cell_type": "code",
   "execution_count": 1,
   "metadata": {},
   "outputs": [],
   "source": [
    "from typing import List\n",
    "import xml.etree.ElementTree as ET\n",
    "import re\n",
    "from pathlib import Path\n",
    "\n",
    "\n",
    "def load_xml_file(file_path: str | Path) -> str:\n",
    "    with open(file_path, \"r\") as file:\n",
    "        return file.read()\n",
    "\n",
    "\n",
    "def extract_function_names(expression):\n",
    "    # Regular expression to match function names\n",
    "    function_pattern = re.compile(r\"\\b([a-zA-Z_]+)\\s*\\(\")\n",
    "    return function_pattern.findall(expression)\n",
    "\n",
    "\n",
    "def parse_and_extract_functions(xml_content):\n",
    "    root = ET.fromstring(xml_content)\n",
    "\n",
    "    function_names = []\n",
    "\n",
    "    # Traverse the XML tree and find all elements with an \"Expression\" attribute\n",
    "    for elem in root.iter():\n",
    "        expression = elem.attrib.get(\"Expression\", \"\")\n",
    "        if expression:\n",
    "            functions = extract_function_names(expression)\n",
    "            function_names.extend(func.upper() for func in functions)\n",
    "\n",
    "    return function_names\n",
    "\n",
    "def should_exclude_path(file_path: Path):  \n",
    "    # Exclude folders containing \"SOLOPLAN\" (case insensitive)  \n",
    "    if any('SOLOPLAN' in part.upper() for part in file_path.parts):  \n",
    "        return True  \n",
    "    # Exclude \"TestSystem\" subfolder  \n",
    "    if 'TestSystem' in file_path.parts:  \n",
    "        return True  \n",
    "    return False  \n",
    "\n",
    "all_files: List[Path] = []\n",
    "for file in Path(\"/workspace/data/customer_data/workflows\").rglob(\"*.xml\"):\n",
    "    all_files.append(file)"
   ]
  },
  {
   "cell_type": "markdown",
   "metadata": {},
   "source": [
    "The second cell loads the metadata files in order to get the category mappings for each function."
   ]
  },
  {
   "cell_type": "code",
   "execution_count": 2,
   "metadata": {},
   "outputs": [],
   "source": [
    "from pathlib import Path\n",
    "import json\n",
    "from collections import defaultdict\n",
    "from typing import Dict, Set\n",
    "\n",
    "general_metadata_file = Path(\"/workspace/data/functions/data.metadata.json\")\n",
    "custom_metadata_file = Path(\"/workspace/data/functions/data.custom.metadata.json\")\n",
    "\n",
    "with open(general_metadata_file, \"r\") as file:\n",
    "    general_metadata: dict = json.load(file)\n",
    "\n",
    "with open(custom_metadata_file, \"r\") as file:\n",
    "    custom_metadata: dict = json.load(file)\n",
    "\n",
    "# Initialize a defaultdict with an empty set as the default value\n",
    "metadata: Dict[str, Dict[str, Set[str]]] = defaultdict(lambda: defaultdict(set))\n",
    "\n",
    "# Add the data from general_metadata to metadata\n",
    "for key, value in general_metadata.items():\n",
    "    metadata[key][\"DevExpress\"].update(value)\n",
    "\n",
    "# Add the data from custom_metadata to metadata\n",
    "for key, value in custom_metadata.items():\n",
    "    metadata[key][\"Soloplan\"].update(value)\n",
    "\n",
    "# Convert metadata back to a regular dict\n",
    "metadata = {key: dict(value) for key, value in metadata.items()}"
   ]
  },
  {
   "cell_type": "markdown",
   "metadata": {},
   "source": [
    "The last cell creates the dataframe and saves it to a `csv` file in order to speed up any analysis parts."
   ]
  },
  {
   "cell_type": "code",
   "execution_count": 3,
   "metadata": {},
   "outputs": [],
   "source": [
    "import pandas as pd\n",
    "from collections import Counter\n",
    "\n",
    "# Dictionary to store the content of all files\n",
    "file_contents = {file: load_xml_file(file) for file in all_files}\n",
    "\n",
    "# Extract function names for overall and filtered sets\n",
    "overall_function_names = []\n",
    "filtered_function_names = []\n",
    "\n",
    "for file, content in file_contents.items():\n",
    "    function_names = parse_and_extract_functions(content)\n",
    "    overall_function_names.extend(function_names)\n",
    "    if not should_exclude_path(file):\n",
    "        filtered_function_names.extend(function_names)\n",
    "\n",
    "# Count the frequency of each function name\n",
    "overall_counter = Counter(overall_function_names)\n",
    "filtered_counter = Counter(filtered_function_names)\n",
    "\n",
    "# Create a dictionary to map function names to their categories\n",
    "function_to_category = {}\n",
    "function_to_source = {}\n",
    "for category, sources in metadata.items():\n",
    "    for source, functions in sources.items():\n",
    "        for function in functions:\n",
    "            function_to_category[function.upper()] = category\n",
    "            function_to_source[function.upper()] = source\n",
    "\n",
    "# Combine the results into a DataFrame\n",
    "df = pd.DataFrame.from_dict(overall_counter, orient=\"index\", columns=[\"Frequency\"])\n",
    "df[\"FilteredFrequency\"] = df.index.map(filtered_counter).fillna(0).astype(int)\n",
    "df.reset_index(inplace=True)\n",
    "df.rename(columns={\"index\": \"FunctionName\"}, inplace=True)\n",
    "\n",
    "# Map each function to its category\n",
    "df[\"Category\"] = df[\"FunctionName\"].map(\n",
    "    lambda fn: function_to_category.get(fn, \"unknown_functions\")\n",
    ")\n",
    "df[\"Source\"] = df[\"FunctionName\"].map(\n",
    "    lambda fn: function_to_source.get(fn, \"unknown\")\n",
    ")\n",
    "\n",
    "df.to_csv(\"/workspace/data/functions/functions.csv\", index=False)"
   ]
  }
 ],
 "metadata": {
  "kernelspec": {
   "display_name": "Python 3",
   "language": "python",
   "name": "python3"
  },
  "language_info": {
   "codemirror_mode": {
    "name": "ipython",
    "version": 3
   },
   "file_extension": ".py",
   "mimetype": "text/x-python",
   "name": "python",
   "nbconvert_exporter": "python",
   "pygments_lexer": "ipython3",
   "version": "3.11.7"
  }
 },
 "nbformat": 4,
 "nbformat_minor": 2
}
