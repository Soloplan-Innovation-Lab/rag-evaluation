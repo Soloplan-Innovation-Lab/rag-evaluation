{
 "cells": [
  {
   "cell_type": "markdown",
   "metadata": {},
   "source": [
    "# Submit formula functions to Azure AI"
   ]
  },
  {
   "cell_type": "code",
   "execution_count": null,
   "metadata": {},
   "outputs": [],
   "source": [
    "import os\n",
    "import json\n",
    "import uuid\n",
    "from typing import List, Dict, Any\n",
    "from azure.search.documents import SearchClient\n",
    "from azure.core.credentials import AzureKeyCredential\n",
    "from openai import AzureOpenAI\n",
    "from internal_shared.models.documents import DevExpressFunction\n",
    "from internal_shared.models.ai import EMBEDDING_3_LARGE\n",
    "\n",
    "embed_client = AzureOpenAI(\n",
    "    api_key=EMBEDDING_3_LARGE.api_key,\n",
    "    api_version=EMBEDDING_3_LARGE.api_version,\n",
    "    azure_endpoint=EMBEDDING_3_LARGE.endpoint,\n",
    ")\n",
    "\n",
    "search_client = SearchClient(\n",
    "    endpoint=os.getenv(\"AZURE_AI_SEARCH_ENDPOINT\"),\n",
    "    index_name=\"mergedfunctionindex_v2\",\n",
    "    credential=AzureKeyCredential(os.getenv(\"AZURE_AI_SEARCH_API_KEY\")),\n",
    ")\n",
    "\n",
    "def load_json(file_path: str) -> List[DevExpressFunction]:\n",
    "    with open(file_path, \"r\") as file:\n",
    "        return [DevExpressFunction(**item) for item in json.load(file)]\n",
    "\n",
    "def convert_to_search_document(embedding: List[float], data: DevExpressFunction) -> Dict[str, Any]:\n",
    "    return {\n",
    "        \"id\": str(uuid.uuid4()),\n",
    "        \"content\": data.description,\n",
    "        \"embedding\": embedding,\n",
    "        \"name\": data.name,\n",
    "        \"example\": data.example,\n",
    "        \"category\": data.category,\n",
    "        \"source\": data.source,\n",
    "        \"keywords\": data.keywords or [],\n",
    "    }\n",
    "\n",
    "def embed_all_text(text: List[str]) -> List[List[float]]:\n",
    "    embeddings = embed_client.embeddings.create(\n",
    "        input=text, model=EMBEDDING_3_LARGE.model_name\n",
    "    )\n",
    "    return [result.embedding for result in embeddings.data]"
   ]
  },
  {
   "cell_type": "markdown",
   "metadata": {},
   "source": [
    "Read custom and native function and convert them to search documents"
   ]
  },
  {
   "cell_type": "code",
   "execution_count": null,
   "metadata": {},
   "outputs": [
    {
     "data": {
      "text/plain": [
       "208"
      ]
     },
     "metadata": {},
     "output_type": "display_data"
    }
   ],
   "source": [
    "documents = load_json(\"/workspace/data/functions/data.custom.json\")\n",
    "native_documents = load_json(\"/workspace/data/functions/data.json\")\n",
    "documents.extend(native_documents)\n",
    "descriptions = [document.description for document in documents]\n",
    "\n",
    "len(descriptions)"
   ]
  },
  {
   "cell_type": "markdown",
   "metadata": {},
   "source": [
    "Embed and convert the code to search documents in batches"
   ]
  },
  {
   "cell_type": "code",
   "execution_count": null,
   "metadata": {},
   "outputs": [
    {
     "data": {
      "text/plain": [
       "208"
      ]
     },
     "metadata": {},
     "output_type": "display_data"
    }
   ],
   "source": [
    "import time\n",
    "\n",
    "search_documents = []\n",
    "embedding_batch_size = 1000\n",
    "total_embedding_batches = (len(descriptions) + embedding_batch_size - 1) // embedding_batch_size\n",
    "\n",
    "for i in range(0, len(descriptions), embedding_batch_size):\n",
    "    batch_descriptions = descriptions[i : i + embedding_batch_size]\n",
    "    batch_embeddings = embed_all_text(batch_descriptions)\n",
    "\n",
    "    for j in range(len(batch_descriptions)):\n",
    "        document = convert_to_search_document(batch_embeddings[j], documents[i + j])\n",
    "        search_documents.append(document)\n",
    "\n",
    "    # before next iteration, wait time to avoid rate limiting\n",
    "    if (i // embedding_batch_size + 1) < total_embedding_batches:\n",
    "        time.sleep(30)\n",
    "\n",
    "len(search_documents)"
   ]
  },
  {
   "cell_type": "markdown",
   "metadata": {},
   "source": [
    "Upload the created search documents in batches"
   ]
  },
  {
   "cell_type": "code",
   "execution_count": null,
   "metadata": {},
   "outputs": [
    {
     "name": "stdout",
     "output_type": "stream",
     "text": [
      "Uploaded batch 1 successfully.\n",
      "All 208 documents uploaded.\n"
     ]
    }
   ],
   "source": [
    "import time\n",
    "\n",
    "upload_batch_size = 1000\n",
    "total_upload_batches = (\n",
    "    len(search_documents) + upload_batch_size - 1\n",
    ") // upload_batch_size\n",
    "\n",
    "for i in range(0, len(search_documents), upload_batch_size):\n",
    "    batch = search_documents[i : i + upload_batch_size]\n",
    "    results = search_client.upload_documents(documents=batch)\n",
    "    if all(result.succeeded for result in results):\n",
    "        print(f\"Uploaded batch {i // upload_batch_size + 1} successfully.\")\n",
    "    else:\n",
    "        for result in results:\n",
    "            if not result.succeeded:\n",
    "                print(\n",
    "                    f\"Failed to upload document with ID {result.key}. Error: {result.error_message}\"\n",
    "                )\n",
    "\n",
    "    # ensure we don't hit the rate limit\n",
    "    if (i // upload_batch_size + 1) < total_upload_batches:\n",
    "        time.sleep(30)\n",
    "\n",
    "print(f\"All {len(results)} documents uploaded.\")"
   ]
  }
 ],
 "metadata": {
  "kernelspec": {
   "display_name": "Python 3",
   "language": "python",
   "name": "python3"
  },
  "language_info": {
   "name": "python",
   "version": "3.11.7"
  }
 },
 "nbformat": 4,
 "nbformat_minor": 2
}
