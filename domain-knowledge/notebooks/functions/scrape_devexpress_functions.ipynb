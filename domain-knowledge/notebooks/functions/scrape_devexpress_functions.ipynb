{
 "cells": [
  {
   "cell_type": "markdown",
   "metadata": {},
   "source": [
    "# DevExpress Criteria Language Syntax function parsing\n",
    "\n",
    "Parsing all available DevExpress functions with their metadata"
   ]
  },
  {
   "cell_type": "code",
   "execution_count": 1,
   "metadata": {},
   "outputs": [],
   "source": [
    "import requests\n",
    "from bs4 import BeautifulSoup\n",
    "from typing import Set, List, Tuple, Dict\n",
    "import html\n",
    "import re\n",
    "from internal_shared.models.documents import DevExpressFunction"
   ]
  },
  {
   "cell_type": "markdown",
   "metadata": {},
   "source": [
    "Define all helper functions for the parsting part"
   ]
  },
  {
   "cell_type": "code",
   "execution_count": null,
   "metadata": {},
   "outputs": [],
   "source": [
    "def get_html_document(url: str) -> BeautifulSoup:\n",
    "    try:\n",
    "        response = requests.get(url)\n",
    "        response.raise_for_status()\n",
    "        return BeautifulSoup(response.text, \"html.parser\")\n",
    "    except requests.RequestException as e:\n",
    "        raise RuntimeError(f\"Failed to fetch the URL: {url}\") from e\n",
    "\n",
    "\n",
    "def get_category_from_previous_h3(table) -> str:\n",
    "    previous_sibling = table.find_previous_sibling(\"h3\")\n",
    "    return (\n",
    "        previous_sibling.get_text().strip().lower().replace(\" \", \"_\").replace(\"-\", \"\")\n",
    "        if previous_sibling\n",
    "        else \"unknown_category\"\n",
    "    )\n",
    "\n",
    "\n",
    "def get_table_rows(table) -> List:\n",
    "    if table.find(\"thead\") or table.find(\"tbody\"):\n",
    "        body = table.find(\"tbody\") or table.find(\"thead\")\n",
    "        return body.find_all(\"tr\")\n",
    "    else:\n",
    "        return table.find_all(\"tr\")\n",
    "\n",
    "\n",
    "def parse_table_rows(rows, category: str) -> Set[DevExpressFunction]:\n",
    "    return {\n",
    "        parse_row(row, category)\n",
    "        for row in rows\n",
    "        if not row.find(\"th\") and len(row.find_all(\"td\")) >= 3\n",
    "    }\n",
    "\n",
    "\n",
    "def parse_row(row, category: str) -> DevExpressFunction:\n",
    "    cells = row.find_all(\"td\")\n",
    "    name_with_params = html_decode(cells[0].get_text(strip=True))\n",
    "    name = extract_function_name(name_with_params)\n",
    "    return DevExpressFunction(\n",
    "        name=name,\n",
    "        description=f\"{name}: {html_decode(cells[1].get_text(strip=True))}\",\n",
    "        example=html_decode(cells[2].get_text(strip=True)),\n",
    "        category=category,\n",
    "    )\n",
    "\n",
    "\n",
    "def html_decode(text: str) -> str:\n",
    "    txt = html.unescape(text)\n",
    "    #unicode_replacements = {\"\\u2019\": \"'\", \"\\u2013\": \"-\", \"\\u2026\": \"\"}\n",
    "    #return txt.translate(str.maketrans(unicode_replacements))\n",
    "    return txt\n",
    "\n",
    "\n",
    "def extract_function_name(name_with_params: str) -> str:\n",
    "    match = re.match(r\"(\\w+)\\s*\\(\", name_with_params)\n",
    "    return match.group(1) if match else name_with_params"
   ]
  },
  {
   "cell_type": "markdown",
   "metadata": {},
   "source": [
    "Actual parsing logic"
   ]
  },
  {
   "cell_type": "code",
   "execution_count": null,
   "metadata": {},
   "outputs": [],
   "source": [
    "def parse_functions(url: str) -> Tuple[Set[DevExpressFunction], Dict[str, List[str]]]:\n",
    "    doc = get_html_document(url)\n",
    "    functions_node = doc.find(\"h2\", {\"id\": \"functions\"})\n",
    "    tables = functions_node.find_all_next(\"table\")\n",
    "\n",
    "    functions = set()\n",
    "    metadata: Dict[str, List[str]] = {}\n",
    "\n",
    "    for table in tables:\n",
    "        category = get_category_from_previous_h3(table)\n",
    "        rows = get_table_rows(table)\n",
    "        parsed_functions = parse_table_rows(rows, category)\n",
    "        functions.update(parsed_functions)\n",
    "\n",
    "        for func in parsed_functions:\n",
    "            if func.category not in metadata:\n",
    "                metadata[func.category] = []\n",
    "            metadata[category].append(func.name)\n",
    "\n",
    "    return functions, metadata"
   ]
  },
  {
   "cell_type": "code",
   "execution_count": null,
   "metadata": {},
   "outputs": [],
   "source": [
    "import json\n",
    "\n",
    "url = \"https://docs.devexpress.com/CoreLibraries/4928/devexpress-data-library/criteria-language-syntax\"\n",
    "functions, metadata = parse_functions(url)\n",
    "\n",
    "functions_list = [func.to_dict() for func in functions]\n",
    "\n",
    "# Write functions to data.json\n",
    "with open(\"/workspace/data/functions/data.json\", \"w\") as f:\n",
    "    func_json = json.dumps(functions_list, indent=4, ensure_ascii=False).encode(\"utf-8\")\n",
    "    f.write(func_json.decode())\n",
    "\n",
    "# Write metadata to data.metadata.json\n",
    "with open(\"/workspace/data/functions/data.metadata.json\", \"w\") as f:\n",
    "    meta_json = json.dumps(metadata, indent=4, ensure_ascii=False).encode(\"utf-8\")\n",
    "    f.write(meta_json.decode())"
   ]
  }
 ],
 "metadata": {
  "kernelspec": {
   "display_name": "Python 3",
   "language": "python",
   "name": "python3"
  },
  "language_info": {
   "codemirror_mode": {
    "name": "ipython",
    "version": 3
   },
   "file_extension": ".py",
   "mimetype": "text/x-python",
   "name": "python",
   "nbconvert_exporter": "python",
   "pygments_lexer": "ipython3",
   "version": "3.11.7"
  }
 },
 "nbformat": 4,
 "nbformat_minor": 2
}
