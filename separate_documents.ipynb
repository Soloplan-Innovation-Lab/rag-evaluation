{
 "cells": [
  {
   "cell_type": "code",
   "execution_count": null,
   "metadata": {},
   "outputs": [],
   "source": [
    "import os\n",
    "\n",
    "# jupyter notebook get current path\n",
    "DOCUMENTS_PATH = os.getcwd() + r\"/data\"\n",
    "FILE_PATH = os.getcwd() + r\"/base/merged-functions.txt\""
   ]
  },
  {
   "cell_type": "code",
   "execution_count": null,
   "metadata": {},
   "outputs": [],
   "source": [
    "def create_document(chunk, text: str):\n",
    "    text = ''.join(chunk).replace(\"\\n\", \" \").strip()\n",
    "    function_name = get_function_name(text)\n",
    "    # write the function to a file like DOCUMENTS_PATH + function_name + \".txt\"\n",
    "    with open(DOCUMENTS_PATH + \"/\" + function_name + \".txt\", \"w\") as f:\n",
    "        f.write(text)\n",
    "\n",
    "def get_function_name(text: str) -> str:\n",
    "    if \"FunctionName:\" in text:\n",
    "        function_name = text.split(\"FunctionName:\")[1].strip()\n",
    "        if function_name.startswith(\"[\"):\n",
    "            function_name = function_name[1:].split(\"]\")[0].strip()\n",
    "            if \"(\" in function_name:\n",
    "                function_name = function_name.split(\"(\")[0].strip()\n",
    "        return function_name\n",
    "    return \"\""
   ]
  },
  {
   "cell_type": "code",
   "execution_count": null,
   "metadata": {},
   "outputs": [],
   "source": [
    "documents = []\n",
    "\n",
    "with open(FILE_PATH, \"r\") as file:\n",
    "    # read all lines at once\n",
    "    lines = file.readlines()\n",
    "    chunk = []\n",
    "    for line in lines:\n",
    "        if line.strip() == '' and chunk:\n",
    "            documents.append(create_document(chunk, line))\n",
    "            chunk = []\n",
    "        else:\n",
    "            chunk.append(line)\n",
    "    if chunk:  # handle last chunk\n",
    "        documents.append(create_document(chunk, line))\n",
    "\n",
    "documents"
   ]
  }
 ],
 "metadata": {
  "language_info": {
   "name": "python"
  }
 },
 "nbformat": 4,
 "nbformat_minor": 2
}
